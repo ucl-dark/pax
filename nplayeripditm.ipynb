{
 "cells": [
  {
   "cell_type": "code",
   "execution_count": 2,
   "metadata": {},
   "outputs": [
    {
     "ename": "ValueError",
     "evalue": "All input arrays must have the same shape.",
     "output_type": "error",
     "traceback": [
      "\u001b[0;31m---------------------------------------------------------------------------\u001b[0m",
      "\u001b[0;31mValueError\u001b[0m                                Traceback (most recent call last)",
      "Cell \u001b[0;32mIn[2], line 18\u001b[0m\n\u001b[1;32m     12\u001b[0m num_actions \u001b[39m=\u001b[39m env\u001b[39m.\u001b[39maction_space()\u001b[39m.\u001b[39mn\n\u001b[1;32m     14\u001b[0m params \u001b[39m=\u001b[39m EnvParams(\n\u001b[1;32m     15\u001b[0m     payoff_matrix\u001b[39m=\u001b[39mjnp\u001b[39m.\u001b[39marray([[[\u001b[39m3\u001b[39m, \u001b[39m0\u001b[39m], [\u001b[39m5\u001b[39m, \u001b[39m1\u001b[39m]], [[\u001b[39m3\u001b[39m, \u001b[39m5\u001b[39m], [\u001b[39m0\u001b[39m, \u001b[39m1\u001b[39m]]]),\n\u001b[1;32m     16\u001b[0m     freeze_penalty\u001b[39m=\u001b[39m\u001b[39m5\u001b[39m,\n\u001b[1;32m     17\u001b[0m )\n\u001b[0;32m---> 18\u001b[0m obs, old_state \u001b[39m=\u001b[39m env\u001b[39m.\u001b[39;49mreset(rng, params)\n",
      "    \u001b[0;31m[... skipping hidden 11 frame]\u001b[0m\n",
      "File \u001b[0;32m~/pax/pax/envs/in_the_matrix_nplayer2.py:892\u001b[0m, in \u001b[0;36mInTheMatrix.__init__.<locals>.reset\u001b[0;34m(key, params)\u001b[0m\n\u001b[1;32m    889\u001b[0m \u001b[39mdef\u001b[39;00m \u001b[39mreset\u001b[39m(\n\u001b[1;32m    890\u001b[0m     key: jnp\u001b[39m.\u001b[39mndarray, params: EnvParams\n\u001b[1;32m    891\u001b[0m ) \u001b[39m-\u001b[39m\u001b[39m>\u001b[39m Tuple[jnp\u001b[39m.\u001b[39mndarray, EnvState]:\n\u001b[0;32m--> 892\u001b[0m     state \u001b[39m=\u001b[39m _reset_state(key, params)\n\u001b[1;32m    893\u001b[0m     obs \u001b[39m=\u001b[39m _get_obs(state)\n\u001b[1;32m    894\u001b[0m     \u001b[39mreturn\u001b[39;00m obs, state\n",
      "File \u001b[0;32m~/pax/pax/envs/in_the_matrix_nplayer2.py:842\u001b[0m, in \u001b[0;36mInTheMatrix.__init__.<locals>._reset_state\u001b[0;34m(key, params)\u001b[0m\n\u001b[1;32m    836\u001b[0m agent_pos \u001b[39m=\u001b[39m jax\u001b[39m.\u001b[39mrandom\u001b[39m.\u001b[39mchoice(\n\u001b[1;32m    837\u001b[0m     subkey, AGENT_SPAWNS, shape\u001b[39m=\u001b[39m(), replace\u001b[39m=\u001b[39m\u001b[39mFalse\u001b[39;00m\n\u001b[1;32m    838\u001b[0m )\n\u001b[1;32m    839\u001b[0m player_dir \u001b[39m=\u001b[39m jax\u001b[39m.\u001b[39mrandom\u001b[39m.\u001b[39mrandint(\n\u001b[1;32m    840\u001b[0m     subkey, shape\u001b[39m=\u001b[39m(num_agents,), minval\u001b[39m=\u001b[39m\u001b[39m0\u001b[39m, maxval\u001b[39m=\u001b[39m\u001b[39m3\u001b[39m, dtype\u001b[39m=\u001b[39mjnp\u001b[39m.\u001b[39mint8\n\u001b[1;32m    841\u001b[0m )\n\u001b[0;32m--> 842\u001b[0m player_pos \u001b[39m=\u001b[39m jnp\u001b[39m.\u001b[39;49marray(\n\u001b[1;32m    843\u001b[0m     [agent_pos[:\u001b[39m2\u001b[39;49m, \u001b[39m0\u001b[39;49m], agent_pos[:\u001b[39m2\u001b[39;49m, \u001b[39m1\u001b[39;49m], player_dir]\n\u001b[1;32m    844\u001b[0m )\u001b[39m.\u001b[39mT\n\u001b[1;32m    845\u001b[0m \u001b[39mraise\u001b[39;00m \u001b[39mValueError\u001b[39;00m(player_pos\u001b[39m.\u001b[39mshape)\n\u001b[1;32m    846\u001b[0m grid \u001b[39m=\u001b[39m jnp\u001b[39m.\u001b[39mzeros((GRID_SIZE, GRID_SIZE), jnp\u001b[39m.\u001b[39mint8)\n",
      "File \u001b[0;32m~/venv/lib/python3.9/site-packages/jax/_src/numpy/lax_numpy.py:1996\u001b[0m, in \u001b[0;36marray\u001b[0;34m(object, dtype, copy, order, ndmin)\u001b[0m\n\u001b[1;32m   1994\u001b[0m \u001b[39melif\u001b[39;00m \u001b[39misinstance\u001b[39m(\u001b[39mobject\u001b[39m, (\u001b[39mlist\u001b[39m, \u001b[39mtuple\u001b[39m)):\n\u001b[1;32m   1995\u001b[0m   \u001b[39mif\u001b[39;00m \u001b[39mobject\u001b[39m:\n\u001b[0;32m-> 1996\u001b[0m     out \u001b[39m=\u001b[39m stack([asarray(elt, dtype\u001b[39m=\u001b[39;49mdtype) \u001b[39mfor\u001b[39;49;00m elt \u001b[39min\u001b[39;49;00m \u001b[39mobject\u001b[39;49m])\n\u001b[1;32m   1997\u001b[0m   \u001b[39melse\u001b[39;00m:\n\u001b[1;32m   1998\u001b[0m     out \u001b[39m=\u001b[39m np\u001b[39m.\u001b[39marray([], dtype\u001b[39m=\u001b[39mdtype)\n",
      "File \u001b[0;32m~/venv/lib/python3.9/site-packages/jax/_src/numpy/lax_numpy.py:1731\u001b[0m, in \u001b[0;36mstack\u001b[0;34m(arrays, axis, out, dtype)\u001b[0m\n\u001b[1;32m   1729\u001b[0m \u001b[39mfor\u001b[39;00m a \u001b[39min\u001b[39;00m arrays:\n\u001b[1;32m   1730\u001b[0m   \u001b[39mif\u001b[39;00m shape(a) \u001b[39m!=\u001b[39m shape0:\n\u001b[0;32m-> 1731\u001b[0m     \u001b[39mraise\u001b[39;00m \u001b[39mValueError\u001b[39;00m(\u001b[39m\"\u001b[39m\u001b[39mAll input arrays must have the same shape.\u001b[39m\u001b[39m\"\u001b[39m)\n\u001b[1;32m   1732\u001b[0m   new_arrays\u001b[39m.\u001b[39mappend(expand_dims(a, axis))\n\u001b[1;32m   1733\u001b[0m \u001b[39mreturn\u001b[39;00m concatenate(new_arrays, axis\u001b[39m=\u001b[39maxis, dtype\u001b[39m=\u001b[39mdtype)\n",
      "\u001b[0;31mValueError\u001b[0m: All input arrays must have the same shape."
     ]
    }
   ],
   "source": [
    "from pax.envs.in_the_matrix_nplayer2 import EnvState, EnvParams, InTheMatrix\n",
    "import jax\n",
    "import jax.numpy as jnp\n",
    "\n",
    "\n",
    "num_inner_steps = 150\n",
    "num_outer_steps = 1\n",
    "num_agents=8\n",
    "\n",
    "rng = jax.random.PRNGKey(0)\n",
    "env = InTheMatrix(num_inner_steps, num_outer_steps, num_agents,  True)\n",
    "num_actions = env.action_space().n\n",
    "\n",
    "params = EnvParams(\n",
    "    payoff_matrix=jnp.array([[[3, 0], [5, 1]], [[3, 5], [0, 1]]]),\n",
    "    freeze_penalty=5,\n",
    ")\n",
    "obs, old_state = env.reset(rng, params)\n"
   ]
  },
  {
   "cell_type": "code",
   "execution_count": null,
   "metadata": {},
   "outputs": [],
   "source": []
  }
 ],
 "metadata": {
  "kernelspec": {
   "display_name": "venv",
   "language": "python",
   "name": "python3"
  },
  "language_info": {
   "codemirror_mode": {
    "name": "ipython",
    "version": 3
   },
   "file_extension": ".py",
   "mimetype": "text/x-python",
   "name": "python",
   "nbconvert_exporter": "python",
   "pygments_lexer": "ipython3",
   "version": "3.9.16"
  },
  "orig_nbformat": 4
 },
 "nbformat": 4,
 "nbformat_minor": 2
}
