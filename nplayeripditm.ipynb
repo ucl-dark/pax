{
 "cells": [
  {
   "cell_type": "code",
   "execution_count": 4,
   "metadata": {},
   "outputs": [
    {
     "name": "stdout",
     "output_type": "stream",
     "text": [
      "[[[4. 4.]\n",
      "  [3. 3.]]\n",
      "\n",
      " [[3. 3.]\n",
      "  [3. 3.]]\n",
      "\n",
      " [[3. 3.]\n",
      "  [3. 3.]]]\n",
      "(3, 2, 2)\n"
     ]
    }
   ],
   "source": [
    "from pax.envs.in_the_matrix_nplayer2 import EnvState, EnvParams, InTheMatrix\n",
    "import jax\n",
    "import jax.numpy as jnp\n",
    "def func(x, y):\n",
    "    return x + y\n",
    "experimental_function = jax.vmap(jax.vmap(func, (None, 0), 0), (0, None), 0)\n",
    "z = experimental_function(jnp.array([5,6,7]), jnp.array([5,6,7]))\n",
    "z\n",
    "a = jnp.array([[True, False, False],\n",
    "              [False, False, False],\n",
    "              [False, True, False]])\n",
    "a.any(axis=1)\n",
    "\n",
    "def func(x, y, z, m1, m2):\n",
    "    pos = jnp.where(\n",
    "        z * m1 *m2,\n",
    "        x,\n",
    "        y\n",
    "    )\n",
    "    return pos\n",
    "x = jnp.ones((3,2))+2\n",
    "y = jnp.ones((3,2))+3\n",
    "collision = jnp.array([[False, True],\n",
    "               [True, True],\n",
    "               [True, True]])\n",
    "\n",
    "moves = jnp.array([True, True, True])\n",
    "move_matrix = jnp.array([[True, True],\n",
    "                        [True, True],\n",
    "                        [True, True]])\n",
    "vmap_func = jax.vmap(jax.vmap(func, (None, None, 0, None, 0), 0), (0, 0, 0, 0, 0), 0)\n",
    "pos = vmap_func(x, y, collision, moves, move_matrix)\n",
    "print(pos)\n",
    "print(pos.shape)\n",
    "# num_inner_steps = 150\n",
    "# num_outer_steps = 1\n",
    "# num_agents=8\n",
    "\n",
    "# rng = jax.random.PRNGKey(0)\n",
    "# env = InTheMatrix(num_inner_steps, num_outer_steps, num_agents,  True)\n",
    "# num_actions = env.action_space().n\n",
    "\n",
    "# params = EnvParams(\n",
    "#     payoff_matrix=jnp.array([[[3, 0], [5, 1]], [[3, 5], [0, 1]]]),\n",
    "#     freeze_penalty=5,\n",
    "# )\n",
    "# obs, old_state = env.reset(rng, params)\n"
   ]
  },
  {
   "cell_type": "code",
   "execution_count": null,
   "metadata": {},
   "outputs": [],
   "source": []
  }
 ],
 "metadata": {
  "kernelspec": {
   "display_name": "venv",
   "language": "python",
   "name": "python3"
  },
  "language_info": {
   "codemirror_mode": {
    "name": "ipython",
    "version": 3
   },
   "file_extension": ".py",
   "mimetype": "text/x-python",
   "name": "python",
   "nbconvert_exporter": "python",
   "pygments_lexer": "ipython3",
   "version": "3.9.16"
  },
  "orig_nbformat": 4
 },
 "nbformat": 4,
 "nbformat_minor": 2
}
