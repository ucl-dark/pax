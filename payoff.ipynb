{
 "cells": [
  {
   "cell_type": "code",
   "execution_count": 5,
   "metadata": {},
   "outputs": [],
   "source": [
    "import math"
   ]
  },
  {
   "cell_type": "code",
   "execution_count": 76,
   "metadata": {},
   "outputs": [
    {
     "name": "stdout",
     "output_type": "stream",
     "text": [
      "[ 2 , 5 ],\n",
      "[ 0 , 3 ],\n",
      "[ -2 , 1 ],\n"
     ]
    }
   ],
   "source": [
    "#ipd payoffs\n",
    "num_players = 2\n",
    "\n",
    "for i in range(num_players+1):\n",
    "    print(\"[\",2*(num_players-i-1),',', 2*(num_players-i+1)-1,'],')"
   ]
  },
  {
   "cell_type": "code",
   "execution_count": 3,
   "metadata": {},
   "outputs": [
    {
     "name": "stdout",
     "output_type": "stream",
     "text": [
      "[ 3.25 , 4 ],\n",
      "[ 3.0 , 4 ],\n",
      "[ 2.5 , 4 ],\n",
      "[ 1.0 , 4 ],\n",
      "[ 1000 , 0 ],\n"
     ]
    }
   ],
   "source": [
    "# snowdrift payoffs \n",
    "num_players = 4\n",
    "b = num_players  # total benefit of getting the job done (at least one cooperator)\n",
    "c = num_players-1 # cost of getting the job done, shared by all cooperators\n",
    "\n",
    "# i is num_defectors\n",
    "for i in range(num_players+1):\n",
    "    num_coop = num_players - i\n",
    "    C =  b- c/num_coop if num_coop > 0 else 1000\n",
    "    D =  b if num_coop > 0 else 0\n",
    "\n",
    "    print(\"[\",C,',', D,'],')"
   ]
  },
  {
   "cell_type": "code",
   "execution_count": 5,
   "metadata": {},
   "outputs": [
    {
     "name": "stdout",
     "output_type": "stream",
     "text": [
      "[ 3.0 , 6.0 ],\n",
      "[ 1.7999999999999998 , 4.8 ],\n",
      "[ 0.6000000000000001 , 3.6 ],\n",
      "[ -3 , 0 ],\n",
      "[ -3 , 0 ],\n",
      "[ -3 , 0 ],\n"
     ]
    }
   ],
   "source": [
    "# stag hunt payoffs\n",
    "num_players = 5\n",
    "c = 3 # cost of hunting stag\n",
    "m = math.ceil(num_players/2)  # min number of hunters is at least half the players\n",
    "F = 2 # cost multiplyer for hunting stag (per person)\n",
    "\n",
    "# if enough hunters, total return for community is num_coop*F*c, this gets divided per player\n",
    "# this gets divided per player\n",
    "# if not enough hunters, 0 return for community\n",
    "# stag hunters pay the cost of the hunt in either case\n",
    "\n",
    "\n",
    "# i is num_defectors\n",
    "for i in range(num_players+1):\n",
    "    num_coop = num_players - i\n",
    "    C =  num_coop*F*c/num_players - c if num_coop >= m else -c\n",
    "    D =  num_coop*F*c/num_players if num_coop >= m else 0\n",
    "\n",
    "    print(\"[\",C,',', D,'],')"
   ]
  },
  {
   "cell_type": "code",
   "execution_count": 6,
   "metadata": {},
   "outputs": [
    {
     "name": "stdout",
     "output_type": "stream",
     "text": [
      "[ 2 , 5 ],\n",
      "[ 2 , 5 ],\n",
      "[ -3 , 0 ],\n",
      "[ -3 , 0 ],\n",
      "[ -3 , 0 ],\n"
     ]
    }
   ],
   "source": [
    "# tragedy of commons payoffs\n",
    "\n",
    "num_players = 4\n",
    "trag_num =math.ceil(num_players/2) # number of players that can defect before tragedy\n",
    "benefit = 5 # benefit of shared resource\n",
    "cost = 3 # cost of not depleting shared resource\n",
    "\n",
    "# i is num_defectors\n",
    "for i in range(num_players+1):\n",
    "    C =  benefit - cost if i < trag_num else -cost\n",
    "    D =  benefit if i < trag_num else 0\n",
    "\n",
    "    print(\"[\",C,',', D,'],')"
   ]
  }
 ],
 "metadata": {
  "kernelspec": {
   "display_name": "pax",
   "language": "python",
   "name": "python3"
  },
  "language_info": {
   "codemirror_mode": {
    "name": "ipython",
    "version": 3
   },
   "file_extension": ".py",
   "mimetype": "text/x-python",
   "name": "python",
   "nbconvert_exporter": "python",
   "pygments_lexer": "ipython3",
   "version": "3.9.17"
  },
  "orig_nbformat": 4
 },
 "nbformat": 4,
 "nbformat_minor": 2
}
