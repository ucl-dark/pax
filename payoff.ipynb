{
 "cells": [
  {
   "cell_type": "code",
   "execution_count": 70,
   "metadata": {},
   "outputs": [],
   "source": [
    "import math"
   ]
  },
  {
   "cell_type": "code",
   "execution_count": 30,
   "metadata": {},
   "outputs": [
    {
     "name": "stdout",
     "output_type": "stream",
     "text": [
      "[ 8 , 11 ],\n",
      "[ 6 , 9 ],\n",
      "[ 4 , 7 ],\n",
      "[ 2 , 5 ],\n",
      "[ 0 , 3 ],\n",
      "[ -2 , 1 ],\n"
     ]
    }
   ],
   "source": [
    "#ipd payoffs\n",
    "num_players = 5\n",
    "\n",
    "for i in range(num_players+1):\n",
    "    print(\"[\",2*(num_players-i-1),',', 2*(num_players-i+1)-1,'],')"
   ]
  },
  {
   "cell_type": "code",
   "execution_count": 68,
   "metadata": {},
   "outputs": [
    {
     "name": "stdout",
     "output_type": "stream",
     "text": [
      "[ 2.3333333333333335 , 3 ],\n",
      "[ 2.0 , 3 ],\n",
      "[ 1.0 , 3 ],\n",
      "[ 1000 , 0 ],\n"
     ]
    }
   ],
   "source": [
    "# snowdrift payoffs \n",
    "num_players = 3\n",
    "b = num_players\n",
    "c = num_players-1\n",
    "\n",
    "# i is num_defectors\n",
    "for i in range(num_players+1):\n",
    "    num_coop = num_players - i\n",
    "    C =  b- c/num_coop if num_coop > 0 else 1000\n",
    "    D =  b if num_coop > 0 else 0\n",
    "\n",
    "    print(\"[\",C,',', D,'],')"
   ]
  },
  {
   "cell_type": "code",
   "execution_count": 69,
   "metadata": {},
   "outputs": [
    {
     "name": "stdout",
     "output_type": "stream",
     "text": [
      "[ 3.0 , 6.0 ],\n",
      "[ 1.0 , 4.0 ],\n",
      "[ -3 , 0 ],\n",
      "[ -3 , 0 ],\n"
     ]
    }
   ],
   "source": [
    "# stag hunt payoffs\n",
    "num_players = 3\n",
    "c = 3\n",
    "m = math.ceil(num_players/2)\n",
    "F = 2\n",
    "\n",
    "# i is num_defectors\n",
    "for i in range(num_players+1):\n",
    "    num_coop = num_players - i\n",
    "    C =  num_coop*F*c/num_players - c if num_coop >= m else -c\n",
    "    D =  num_coop*F*c/num_players if num_coop >= m else 0\n",
    "\n",
    "    print(\"[\",C,',', D,'],')"
   ]
  },
  {
   "cell_type": "code",
   "execution_count": 75,
   "metadata": {},
   "outputs": [
    {
     "name": "stdout",
     "output_type": "stream",
     "text": [
      "[ 2 , 5 ],\n",
      "[ 2 , 5 ],\n",
      "[ -3 , 0 ],\n",
      "[ -3 , 0 ],\n"
     ]
    }
   ],
   "source": [
    "# tragedy of commons payoffs\n",
    "\n",
    "num_players = 3\n",
    "trag_num =math.ceil(num_players/2)\n",
    "benefit = 5\n",
    "cost = 3\n",
    "\n",
    "# i is num_defectors\n",
    "for i in range(num_players+1):\n",
    "    C =  benefit - cost if i < trag_num else -cost\n",
    "    D =  benefit if i < trag_num else 0\n",
    "\n",
    "    print(\"[\",C,',', D,'],')"
   ]
  }
 ],
 "metadata": {
  "kernelspec": {
   "display_name": "pax",
   "language": "python",
   "name": "python3"
  },
  "language_info": {
   "codemirror_mode": {
    "name": "ipython",
    "version": 3
   },
   "file_extension": ".py",
   "mimetype": "text/x-python",
   "name": "python",
   "nbconvert_exporter": "python",
   "pygments_lexer": "ipython3",
   "version": "3.9.15"
  },
  "orig_nbformat": 4
 },
 "nbformat": 4,
 "nbformat_minor": 2
}
