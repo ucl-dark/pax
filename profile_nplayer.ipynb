{
 "cells": [
  {
   "cell_type": "code",
   "execution_count": null,
   "id": "initial_id",
   "metadata": {
    "collapsed": true
   },
   "outputs": [],
   "source": [
    "!pip install --upgrade tensorflow tensorboard_plugin_profile"
   ]
  },
  {
   "cell_type": "code",
   "execution_count": 1,
   "id": "c3892445326a96bd",
   "metadata": {
    "ExecuteTime": {
     "end_time": "2023-09-09T13:52:53.364091Z",
     "start_time": "2023-09-09T13:52:53.356565Z"
    }
   },
   "outputs": [],
   "source": [
    "%load_ext tensorboard"
   ]
  },
  {
   "cell_type": "code",
   "execution_count": 1,
   "id": "53504be560736467",
   "metadata": {
    "ExecuteTime": {
     "end_time": "2023-09-09T16:15:41.215799Z",
     "start_time": "2023-09-09T16:15:40.933603Z"
    }
   },
   "outputs": [
    {
     "name": "stderr",
     "output_type": "stream",
     "text": [
      "/var/folders/0g/tbd8_nhx01s7spsllv70v4100000gn/T/ipykernel_91158/755042361.py:4: UserWarning: \n",
      "The version_base parameter is not specified.\n",
      "Please specify a compatability version level, or None.\n",
      "Will assume defaults for version 1.1\n",
      "  initialize(config_path=\"../pax/pax/conf\", job_name=\"create_runner\")\n"
     ]
    }
   ],
   "source": [
    "# Load the runner\n",
    "from hydra import initialize, compose\n",
    "\n",
    "initialize(config_path=\"../pax/pax/conf\", job_name=\"create_runner\")\n",
    "args = compose(config_name=\"config\", overrides=[\"+experiment/rice=debug\"])"
   ]
  },
  {
   "cell_type": "code",
   "execution_count": 2,
   "id": "9d7f0265213fb311",
   "metadata": {
    "ExecuteTime": {
     "end_time": "2023-09-09T16:15:50.621816Z",
     "start_time": "2023-09-09T16:15:42.493724Z"
    }
   },
   "outputs": [
    {
     "name": "stderr",
     "output_type": "stream",
     "text": [
      "/Users/christophproschel/codingprojects/ism/thesis/main/pax/pax/experiment.py:705: UserWarning: \n",
      "The version_base parameter is not specified.\n",
      "Please specify a compatability version level, or None.\n",
      "Will assume defaults for version 1.1\n",
      "  @hydra.main(config_path=\"conf\", config_name=\"config\")\n"
     ]
    },
    {
     "name": "stdout",
     "output_type": "stream",
     "text": [
      "Jax backend: cpu\n",
      "Making network for Rice-v1\n",
      "Making network for Rice-v1\n",
      "Making network for Rice-v1\n",
      "Making network for Rice-v1\n",
      "Making network for Rice-v1\n",
      "Making network for Rice-v1\n",
      "ParameterReshaper: 5952 parameters detected for optimization.\n",
      "Time to Compile Jax Methods: 2.4162590503692627 Seconds\n"
     ]
    }
   ],
   "source": [
    "from pax.utils import Section\n",
    "from pax.experiment import global_setup, env_setup, agent_setup, watcher_setup, runner_setup\n",
    "import logging\n",
    "from jax.lib import xla_bridge\n",
    "from jax.config import config\n",
    "config.update('jax_disable_jit', True)\n",
    "print(f\"Jax backend: {xla_bridge.get_backend().platform}\")\n",
    "\n",
    "\"\"\"Set up main.\"\"\"\n",
    "logger = logging.getLogger()\n",
    "with Section(\"Global setup\", logger=logger):\n",
    "    save_dir = global_setup(args)\n",
    "\n",
    "with Section(\"Env setup\", logger=logger):\n",
    "    env, env_params = env_setup(args, logger)\n",
    "\n",
    "with Section(\"Agent setup\", logger=logger):\n",
    "    agent_pair = agent_setup(args, env, env_params, logger)\n",
    "\n",
    "with Section(\"Watcher setup\", logger=logger):\n",
    "    watchers = watcher_setup(args, logger)\n",
    "\n",
    "runner = runner_setup(args, env, agent_pair, save_dir, logger)\n"
   ]
  },
  {
   "cell_type": "code",
   "execution_count": null,
   "id": "a727691a72bf37cc",
   "metadata": {
    "is_executing": true,
    "ExecuteTime": {
     "start_time": "2023-09-09T16:15:50.622298Z"
    }
   },
   "outputs": [
    {
     "name": "stdout",
     "output_type": "stream",
     "text": [
      "Training\n",
      "------------------------------\n",
      "Number of Generations: 1\n",
      "Number of Meta Episodes: 2\n",
      "Population Size: 1000\n",
      "Number of Environments: 1\n",
      "Number of Opponent: 1\n",
      "Log Interval: 5\n",
      "------------------------------\n"
     ]
    }
   ],
   "source": [
    "import jax\n",
    "from jax.config import config\n",
    "config.update('jax_disable_jit', True)\n",
    "\n",
    "def run(num_iters):\n",
    "    runner.run_loop(env_params, agent_pair, num_iters, watchers)\n",
    "\n",
    "# COMPILE (3 times to make sure everything is compiled, you might need more or less \n",
    "# depending on your code) \n",
    "# for _ in range(3):\n",
    "#     jax.block_until_ready(run(num_iters=1))\n",
    "\n",
    "with jax.profiler.trace(\"/tmp/jax-trace\", create_perfetto_link=True):\n",
    "    jax.block_until_ready(runner.run_loop(env_params, agent_pair, 1, False))"
   ]
  },
  {
   "cell_type": "code",
   "execution_count": null,
   "outputs": [],
   "source": [
    "print(\"Done\")"
   ],
   "metadata": {
    "collapsed": false,
    "is_executing": true
   },
   "id": "767131758bded205"
  },
  {
   "cell_type": "code",
   "execution_count": null,
   "id": "e7a7433c1b31005a",
   "metadata": {
    "ExecuteTime": {
     "start_time": "2023-09-09T13:46:51.813932Z"
    }
   },
   "outputs": [],
   "source": [
    "%tensorboard --logdir=/tmp/jax-trace --port 6006"
   ]
  }
 ],
 "metadata": {
  "kernelspec": {
   "display_name": "Python 3 (ipykernel)",
   "language": "python",
   "name": "python3"
  },
  "language_info": {
   "codemirror_mode": {
    "name": "ipython",
    "version": 3
   },
   "file_extension": ".py",
   "mimetype": "text/x-python",
   "name": "python",
   "nbconvert_exporter": "python",
   "pygments_lexer": "ipython3",
   "version": "3.10.11"
  }
 },
 "nbformat": 4,
 "nbformat_minor": 5
}
